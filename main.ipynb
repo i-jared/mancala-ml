{
 "cells": [
  {
   "cell_type": "markdown",
   "metadata": {},
   "source": [
    "### Mancala Reinforcement Learning Algorithm\n",
    "\n",
    "**things I need:**\n",
    "\n",
    "- an environment (mancala board)\n",
    "- a policy (epsilon greedy)\n",
    "- a value function (value of each state)\n",
    "- a model (predicts next state and reward)\n",
    "\n",
    "**procedure:**\n",
    "\n",
    "- make a q network\n",
    "- make a history of all states\n",
    "- calculate the reward\n",
    "- every 4 steps update the q network\n"
   ]
  },
  {
   "cell_type": "code",
   "execution_count": 1,
   "metadata": {},
   "outputs": [],
   "source": [
    "import numpy as np\n",
    "import matplotlib.pyplot as plt\n",
    "from typing import List\n",
    "from enum import Enum"
   ]
  },
  {
   "cell_type": "markdown",
   "metadata": {},
   "source": [
    "# Neural Network "
   ]
  },
  {
   "cell_type": "code",
   "execution_count": 47,
   "metadata": {},
   "outputs": [],
   "source": [
    "class Activation(Enum):\n",
    "    RELU = 2\n",
    "    SIGMOID = 1\n",
    "    NONE = 0\n",
    "\n",
    "class QLayer():\n",
    "    def __init__(self, input_size : int, output_size : int, activation : Activation = Activation.NONE):\n",
    "        self.output_size = output_size\n",
    "        self.input_size = input_size\n",
    "        self.W = np.random.rand(input_size, output_size)- 0.5\n",
    "        self.b = np.random.rand(output_size)-0.5\n",
    "        self.x = None\n",
    "        self.z = None\n",
    "        self.a = None\n",
    "        self.activation = activation\n",
    "    \n",
    "    def forward(self, x) -> np.ndarray:\n",
    "        self.x = x\n",
    "        self.z = np.dot(x, self.W) + self.b\n",
    "        self.a = self.activate(self.z)\n",
    "        return self.a\n",
    "\n",
    "    def activate(self, z : np.ndarray) -> np.ndarray:\n",
    "        if (self.activation == Activation.RELU):\n",
    "            return np.maximum(0,z)\n",
    "        elif (self.activation == Activation.SIGMOID):\n",
    "            return 1 / (1 + np.exp(-z))\n",
    "        elif self.activation == Activation.NONE:\n",
    "            return z"
   ]
  },
  {
   "cell_type": "code",
   "execution_count": 48,
   "metadata": {},
   "outputs": [],
   "source": [
    "\n",
    "class QNetwork():\n",
    "    \"\"\"A simple neural network with a list of layers and a learning rate\"\"\"\n",
    "    def __init__(self, layers : List[QLayer], learning_rate: float):\n",
    "        self.layers = layers\n",
    "        self.learning_rate = learning_rate\n",
    "    \n",
    "    def forward(self, a : np.ndarray ):\n",
    "        \"\"\"forward propagation of the network, returning the output of the last layer\"\"\"\n",
    "        assert len(a) == self.layers[0].input_size\n",
    "        for i in range(len(self.layers)):\n",
    "            a = self.layers[i].forward(a)\n",
    "        return a\n",
    "    \n",
    "    def backward(self, y_true: np.ndarray, y_pred: np.ndarray):\n",
    "        \"\"\"Backward propagation of the network, updating the weights and biases of each layer\"\"\"\n",
    "        gradient : np.ndarray = (y_pred - y_true) / y_pred.size\n",
    "        for layer in reversed(self.layers):\n",
    "            gradient = self.gradient(gradient, layer)\n",
    "\n",
    "    def gradient(self, gradient: np.ndarray, layer: QLayer) -> np.ndarray:\n",
    "        \"\"\"Calculates the gradient of the loss function with respect to the weights and biases of the layer\"\"\"\n",
    "        if (layer.activation == Activation.RELU):\n",
    "            gradient[layer.z <= 0] = 0\n",
    "        elif layer.activation == Activation.SIGMOID:\n",
    "            gradient *= layer.a * (1-layer.a)\n",
    "        elif layer.activation == Activation.NONE:\n",
    "            pass\n",
    "        \n",
    "        layer.W -= self.learning_rate * np.outer(layer.x, gradient)\n",
    "        layer.b -= self.learning_rate * gradient\n",
    "\n",
    "        return np.dot(layer.W, gradient)"
   ]
  },
  {
   "cell_type": "markdown",
   "metadata": {},
   "source": [
    "# Environment \n",
    "The env that knows the rules and can facillitate a game between two agents."
   ]
  },
  {
   "cell_type": "code",
   "execution_count": 49,
   "metadata": {},
   "outputs": [],
   "source": [
    "class MancalaBoard():\n",
    "    \"\"\"An RL environment that knows the rules of mancala\"\"\"\n",
    "    def __init__(self):\n",
    "        self.reset()\n",
    "\n",
    "    def reset(self):\n",
    "        \"\"\"Reset the board to its original state.\"\"\"\n",
    "        self.board : np.array = np.array([4,4,4,4,4,4,0,4,4,4,4,4,4,0])\n",
    "        self.player : int = 0\n",
    "        self.turn : int = 0\n",
    "        self.last_action : int = 0\n",
    "        self.last_action_taken_by : int = 0\n",
    "        self.gameOver : bool = False\n",
    "\n",
    "    def __str__(self):\n",
    "        game = f\"Player: {self.last_action_taken_by}, Turn: {self.turn}, Action: {self.last_action}\\n\\n\"\n",
    "        game += f\"Pieces: {np.sum(self.board)}\\n\"\n",
    "        game += \"________________\\n\"\n",
    "        game += f\"|      {self.board[13]}      |\\n\"\n",
    "        for i in range(0, 6):\n",
    "            game += f\"|  {self.board[i]}   |   {self.board[12 - i]}  |\\n\"\n",
    "        game += f\"|      {self.board[6]}      |\\n\"\n",
    "        game += \"________________\\n\"\n",
    "        return game\n",
    "\n",
    "    def move(self, action : int):\n",
    "        \"\"\"Determines effect of an action on the board.\"\"\"\n",
    "        old_board = self.board.copy()\n",
    "        self.turn+=1\n",
    "        self.last_action = action \n",
    "        self.last_action_taken_by = self.player \n",
    "        pieces : int = self.board[action]\n",
    "        goal_i : int = 6 if self.player == 0 else 13\n",
    "        skip : int = 13 if self.player == 0 else 6\n",
    "        # move all the pieces around the board\n",
    "        self.board[action] = 0\n",
    "        dest_i = (action) % 14\n",
    "        for i in range(pieces):\n",
    "            dest_i = (dest_i + 1) % 14\n",
    "            # don't put in your opponent's goal\n",
    "            if (dest_i == skip):\n",
    "                dest_i = (dest_i + 1) % 14\n",
    "            self.board[dest_i] += 1\n",
    "        # if you landed on an empty square on your side, move all pieces to your goal\n",
    "        if (self.board[dest_i] == 1 and self.board[12 - dest_i] > 0 and ((dest_i < 6 and self.player == 0) or (dest_i >= 7 and dest_i < 13 and self.player == 1))):\n",
    "            self.board[goal_i] += self.board[dest_i] + self.board[12-dest_i]\n",
    "            self.board[dest_i] = 0\n",
    "            self.board[12-dest_i] = 0\n",
    "        # if you land on your goal, go again\n",
    "        if (dest_i != goal_i): \n",
    "            self.player = 0 if self.player == 1 else 1\n",
    "        ### game over cases ###\n",
    "        # one side becomes empty\n",
    "        if (np.sum(self.board[0:6]) == 0 ):\n",
    "            for i in range(7,13):\n",
    "                self.board[13] += self.board[i]\n",
    "                self.board[i] = 0\n",
    "            self.gameOver = True\n",
    "        elif (np.sum(self.board[7:13]) == 0):\n",
    "            for i in range(0, 6):\n",
    "                self.board[6] += self.board[i]\n",
    "                self.board[i] = 0\n",
    "            self.gameOver = True\n",
    "        # return the experience data\n",
    "        return self.board.copy(), self._getReward(self.player, old_board), self.gameOver\n",
    "        \n",
    "\n",
    "    def _getReward(self, player : int, old_board : np.ndarray):\n",
    "        \"\"\"Caluclate reward based on turn and game results.\"\"\"\n",
    "        your_score : int = self.board[13] if player == 1 else self.board[6]\n",
    "        their_score : int = self.board[6] if player == 0 else self.board[13]\n",
    "        if (self.gameOver):\n",
    "            return 5 if your_score > their_score else -5\n",
    "        else:\n",
    "            your_old_score : int = old_board[13] if player == 1 else old_board[6]\n",
    "            return (your_score - your_old_score)\n",
    "\n",
    "        \n",
    "\n",
    "        "
   ]
  },
  {
   "cell_type": "markdown",
   "metadata": {},
   "source": [
    "# Agents\n",
    "these guys are going to play the game"
   ]
  },
  {
   "cell_type": "code",
   "execution_count": 102,
   "metadata": {},
   "outputs": [],
   "source": [
    "from abc import ABC, abstractmethod\n",
    "class Agent(ABC):\n",
    "    @abstractmethod\n",
    "    def decide(self, state: np.ndarray) -> int:\n",
    "        pass\n",
    "\n",
    "class Robot(Agent):\n",
    "    def __init__(self, q_net : QNetwork, player : int):\n",
    "        self.q_net = q_net\n",
    "        self.player = player\n",
    "\n",
    "    def decide(self, state: np.ndarray) -> int:\n",
    "        # flip the board if the robot is player 1\n",
    "        new_state = state.copy()\n",
    "        if (self.player == 1):\n",
    "            new_state[:7] = state[7:14]\n",
    "            new_state[7:14] = state[:7]\n",
    "        q_pred = self.q_net.forward(new_state)\n",
    "        action = np.argmax(np.where(new_state[:6] > 0, q_pred, 0))\n",
    "        return action if self.player == 0 else action + 7\n",
    "\n",
    "class Human(Agent):\n",
    "    def decide(self, state: np.ndarray) -> int:\n",
    "        valid = False\n",
    "        while not valid:\n",
    "            action = int(input(\"Enter a move: \"))\n",
    "            valid = state[action] > 0\n",
    "        return action\n",
    "\n",
    "class Random(Agent):\n",
    "    def __init__(self, player: int): \n",
    "        self.player = player\n",
    "        \n",
    "    def decide(self, state: np.ndarray) -> int:\n",
    "        valid = False\n",
    "        while not valid:\n",
    "            action = np.random.randint(7,13) if self.player == 1 else np.random.randint(0,6)\n",
    "            valid = state[action] > 0\n",
    "        return action"
   ]
  },
  {
   "cell_type": "markdown",
   "metadata": {},
   "source": [
    "# Tests"
   ]
  },
  {
   "cell_type": "markdown",
   "metadata": {},
   "source": [
    "## Test 0\n",
    "Does my NN work at all? Simple linear regression."
   ]
  },
  {
   "cell_type": "code",
   "execution_count": 74,
   "metadata": {},
   "outputs": [
    {
     "name": "stdout",
     "output_type": "stream",
     "text": [
      "0.07275289907173198\n",
      "0.0017778777374449974\n",
      "0.00021936841898259708\n",
      "2.6369215902173453e-05\n",
      "3.140382775585445e-06\n",
      "3.736388554363363e-07\n",
      "4.4047365630448606e-08\n",
      "5.119895186726718e-09\n",
      "6.353170417793987e-10\n",
      "7.347675237275688e-11\n"
     ]
    },
    {
     "data": {
      "image/png": "[encoded data removed]",
      "text/plain": [
       "<Figure size 432x288 with 1 Axes>"
      ]
     },
     "metadata": {
      "needs_background": "light"
     },
     "output_type": "display_data"
    }
   ],
   "source": [
    "iters = 1000\n",
    "q_net = QNetwork([QLayer(1,64,Activation.RELU),\n",
    "                   QLayer(64,1,Activation.RELU)],\n",
    "                   learning_rate=0.01)\n",
    "y_train = np.array([[2], [4]])\n",
    "x_train = np.array([[1], [2]])\n",
    "y_test = np.array([10])\n",
    "x_test = np.array([5])\n",
    "\n",
    "losses = []\n",
    "for i in range(iters):\n",
    "    for x, y in zip(x_train, y_train):\n",
    "        pred = q_net.forward(x)\n",
    "        loss = np.sum(np.square(pred - y)) / (2*pred.size)\n",
    "        losses.append(loss)\n",
    "        q_net.backward(y, pred)\n",
    "    if i% 100 ==0:\n",
    "        print(loss)\n",
    "\n",
    "        \n",
    "plt.plot(losses)\n",
    "plt.xlabel('Iteration')\n",
    "plt.ylabel('Cost')\n",
    "plt.title('Loss')\n",
    "plt.show('cost_hist.png')\n"
   ]
  },
  {
   "cell_type": "code",
   "execution_count": 52,
   "metadata": {},
   "outputs": [
    {
     "data": {
      "text/plain": [
       "array([0.])"
      ]
     },
     "execution_count": 52,
     "metadata": {},
     "output_type": "execute_result"
    }
   ],
   "source": [
    "q_net.forward(x_test)"
   ]
  },
  {
   "cell_type": "markdown",
   "metadata": {},
   "source": [
    "## Test 0.5\n",
    "Simple non-linear regression."
   ]
  },
  {
   "cell_type": "code",
   "execution_count": 96,
   "metadata": {},
   "outputs": [
    {
     "name": "stdout",
     "output_type": "stream",
     "text": [
      "539.1679849227918, pred: [-0.83802628], y: [32]\n",
      "1.350751035037145, pred: [30.35637533], y: [32]\n",
      "0.2334946011224405, pred: [31.31663392], y: [32]\n",
      "0.019530331038704257, pred: [31.8023623], y: [32]\n",
      "0.001143992049292072, pred: [31.95216712], y: [32]\n",
      "6.089046831394159e-05, pred: [31.98896456], y: [32]\n",
      "3.181587245078107e-06, pred: [31.99747747], y: [32]\n",
      "1.6472125074257077e-07, pred: [31.99942603], y: [32]\n",
      "8.548685533549193e-09, pred: [31.99986924], y: [32]\n",
      "4.434065312428771e-10, pred: [31.99997022], y: [32]\n"
     ]
    },
    {
     "data": {
      "image/png": "[encoded data removed]",
      "text/plain": [
       "<Figure size 432x288 with 1 Axes>"
      ]
     },
     "metadata": {
      "needs_background": "light"
     },
     "output_type": "display_data"
    }
   ],
   "source": [
    "iters = 100000\n",
    "q_net = QNetwork([\n",
    "    QLayer(2, 64, Activation.RELU),\n",
    "    QLayer(64, 16, Activation.RELU),\n",
    "    QLayer(16, 1),\n",
    "], learning_rate = 0.00001)\n",
    "\n",
    "x_train = np.array([[2,3],[1,5],[6,1],[4,4]])\n",
    "y_train = np.array([[x[0]**2 + x[1]**2] for x in x_train])\n",
    "x_test = np.array([10,5])\n",
    "y_test = np.array([125])\n",
    "                    \n",
    "losses = []\n",
    "for i in range(iters):\n",
    "    for x,y in zip(x_train, y_train):\n",
    "        pred = q_net.forward(x)\n",
    "        loss = np.sum(np.square(pred-y))/2\n",
    "        losses.append(loss)\n",
    "        q_net.backward(y, pred)\n",
    "    if (i % 10000 == 0):\n",
    "            print(f'{loss}, pred: {pred}, y: {y}')\n",
    "\n",
    "plt.plot(losses[500:])\n",
    "plt.xlabel('Iteration')\n",
    "plt.ylabel('Cost')\n",
    "plt.title('Loss')\n",
    "plt.show('cost_hist.png')"
   ]
  },
  {
   "cell_type": "code",
   "execution_count": 100,
   "metadata": {},
   "outputs": [
    {
     "data": {
      "text/plain": [
       "array([25.99999859])"
      ]
     },
     "execution_count": 100,
     "metadata": {},
     "output_type": "execute_result"
    }
   ],
   "source": [
    "q_net.forward([1,5])"
   ]
  },
  {
   "cell_type": "markdown",
   "metadata": {},
   "source": [
    "The neural net works, at least. I seem to be doing gradient descent correctly and my models have approximated solutions, although poorly."
   ]
  },
  {
   "cell_type": "markdown",
   "metadata": {},
   "source": [
    "## Test 1\n",
    "DQN Training. One neural net. no batches. no optimizations."
   ]
  },
  {
   "cell_type": "code",
   "execution_count": 103,
   "metadata": {},
   "outputs": [],
   "source": [
    "iters = 10000\n",
    "max_replay = 10000\n",
    "epsilon = 1.0\n",
    "epsilon_decay_rate = 0.999\n",
    "min_epsilon = 0.01\n",
    "discount_factor = 0.99\n",
    "q_net = QNetwork([QLayer(14,64,Activation.RELU),\n",
    "                   QLayer(64,64,Activation.RELU),\n",
    "                   QLayer(64,6,Activation.NONE)],\n",
    "                   learning_rate=0.01)\n",
    "q_net0 = QNetwork([QLayer(14,64,Activation.RELU),\n",
    "                   QLayer(64,64,Activation.RELU),\n",
    "                   QLayer(64,6,Activation.NONE)],\n",
    "                   learning_rate=0.01)\n",
    "q_net1 = QNetwork([QLayer(14,128,Activation.RELU),\n",
    "                   QLayer(128,128,Activation.RELU),\n",
    "                   QLayer(128,6,Activation.NONE)],\n",
    "                   learning_rate=0.01)\n",
    "agent0 = Robot(q_net0, 0)\n",
    "agent1 = Random(1)"
   ]
  },
  {
   "cell_type": "code",
   "execution_count": 95,
   "metadata": {},
   "outputs": [
    {
     "name": "stderr",
     "output_type": "stream",
     "text": [
      "/var/folders/vr/31qhw18x51l7rmk4c44h85200000gn/T/ipykernel_13676/2718994497.py:27: VisibleDeprecationWarning: Creating an ndarray from ragged nested sequences (which is a list-or-tuple of lists-or-tuples-or ndarrays with different lengths or shapes) is deprecated. If you meant to do this, you must specify 'dtype=object' when creating the ndarray.\n",
      "  replay_buffer = np.append(replay_buffer, np.array([state, q_pred, action, reward, new_state, game_over]))\n"
     ]
    },
    {
     "ename": "NameError",
     "evalue": "name 'q_target' is not defined",
     "output_type": "error",
     "traceback": [
      "\u001b[0;31m---------------------------------------------------------------------------\u001b[0m",
      "\u001b[0;31mNameError\u001b[0m                                 Traceback (most recent call last)",
      "Input \u001b[0;32mIn [95]\u001b[0m, in \u001b[0;36m<cell line: 5>\u001b[0;34m()\u001b[0m\n\u001b[1;32m     35\u001b[0m     q_net\u001b[38;5;241m.\u001b[39mbackward(q_target_sample, q_pred_sample)\n\u001b[1;32m     36\u001b[0m     \u001b[38;5;66;03m# q_target = q_net.forward(last_state_robot)\u001b[39;00m\n\u001b[1;32m     37\u001b[0m     \u001b[38;5;66;03m# q_target[last_action_robot] = reward + discount_factor * np.max(q_net.forward(new_state))\u001b[39;00m\n\u001b[1;32m     38\u001b[0m     \u001b[38;5;66;03m# q_net.backward(q_target, q_pred)\u001b[39;00m\n\u001b[1;32m     39\u001b[0m     \u001b[38;5;66;03m# q_target_max = reward + discount_factor * np.max(q_net.forward(new_state))\u001b[39;00m\n\u001b[0;32m---> 41\u001b[0m cost \u001b[38;5;241m=\u001b[39m np\u001b[38;5;241m.\u001b[39msum(np\u001b[38;5;241m.\u001b[39msquare(q_pred \u001b[38;5;241m-\u001b[39m \u001b[43mq_target\u001b[49m)) \u001b[38;5;241m/\u001b[39m (\u001b[38;5;241m2\u001b[39m\u001b[38;5;241m*\u001b[39mq_pred\u001b[38;5;241m.\u001b[39msize)\n\u001b[1;32m     42\u001b[0m ave_cost \u001b[38;5;241m+\u001b[39m\u001b[38;5;241m=\u001b[39m cost\n\u001b[1;32m     43\u001b[0m \u001b[38;5;66;03m# backpropagate\u001b[39;00m\n",
      "\u001b[0;31mNameError\u001b[0m: name 'q_target' is not defined"
     ]
    }
   ],
   "source": [
    "env = MancalaBoard()\n",
    "replay_buffer = np.array([])\n",
    "cost_hist = []\n",
    "win_hist = []\n",
    "for i in range(iters):\n",
    "    env.reset()\n",
    "    game_over = False\n",
    "    ave_cost = 0.0\n",
    "    last_action_robot = 0\n",
    "    last_state_robot = np.zeros(14)\n",
    "    move_count = 0\n",
    "    while not game_over:\n",
    "        state = env.board / 48\n",
    "    # choose an action with epsilon greedy\n",
    "        if (env.player == 0):\n",
    "            rand_e = np.random.rand()\n",
    "            q_pred = q_net.forward(state)\n",
    "            if (rand_e < epsilon):\n",
    "                valid_indices = np.where(state[:6] > 0)[0]\n",
    "                action = np.random.choice(valid_indices)\n",
    "            else:\n",
    "                action = np.argmax(np.where(state[:6] > 0, q_pred, 0))\n",
    "            last_action_robot = action\n",
    "            # get the new state from the action\n",
    "            last_state_robot = state\n",
    "            new_state, reward, game_over = env.move(action)\n",
    "            replay_buffer = np.append(replay_buffer, np.array([state, q_pred, action, reward, new_state, game_over]))\n",
    "            if (move_count % 4 == 0 and replay_buffer.size > 64):\n",
    "                sample_indices = np.random.choice(replay_buffer.shape[0], 64)\n",
    "                sample_experiences = replay_buffer[sample_indices]\n",
    "                vfunc = np.vectorize(q_net.forward)\n",
    "                q_target_sample = sample_experiences[:,3] + discount_factor * np.max(vfunc(sample_experiences[:,4]))\n",
    "                q_pred_sample = np.array([x[0] for x in sample_experiences])\n",
    "\n",
    "                q_net.backward(q_target_sample, q_pred_sample)\n",
    "                # q_target = q_net.forward(last_state_robot)\n",
    "                # q_target[last_action_robot] = reward + discount_factor * np.max(q_net.forward(new_state))\n",
    "                # q_net.backward(q_target, q_pred)\n",
    "                # q_target_max = reward + discount_factor * np.max(q_net.forward(new_state))\n",
    "\n",
    "            cost = np.sum(np.square(q_pred - q_target)) / (2*q_pred.size)\n",
    "            ave_cost += cost\n",
    "            # backpropagate\n",
    "            # q_net.backward(q_target, q_pred)\n",
    "            move_count+=1\n",
    "        else:\n",
    "            valid = False\n",
    "            while not valid:\n",
    "                action = np.random.randint(7,13)\n",
    "                valid = state[action] > 0\n",
    "            new_state, reward, game_over = env.move(action)\n",
    "            if game_over:\n",
    "                if (env.board[6] > env.board[13]):\n",
    "                    reward = 5\n",
    "                else:\n",
    "                    reward = -5\n",
    "                q_target_max = reward + discount_factor * np.max(q_net.forward(new_state))\n",
    "                q_target = q_pred.copy()\n",
    "                q_target[last_action_robot] = q_target_max\n",
    "                q_net.backward(q_target, q_pred)\n",
    "        if (game_over):\n",
    "            win_hist.append(env.board[6] > env.board[13])\n",
    "        epsilon = max(min_epsilon, epsilon * epsilon_decay_rate)\n",
    "        cost_hist.append(ave_cost.mean())\n",
    "\n",
    "    # iteration over\n",
    "    # if (i % 10 == 0):\n",
    "    if (i % 1000 == 0):\n",
    "        print(f'iter: {i}, cost: {ave_cost}')\n",
    "\n",
    "# plot winning percentage\n",
    "print(f'win ratio {np.round(np.sum(win_hist) / iter, 2)}')\n",
    "# plot cost_hist as a line chart\n",
    "plt.plot(cost_hist)\n",
    "plt.xlabel('Iteration')\n",
    "plt.ylabel('Cost')\n",
    "plt.title('Cost History')\n",
    "plt.show('cost_hist.png')\n",
    "\n",
    "\n",
    "    \n"
   ]
  },
  {
   "cell_type": "code",
   "execution_count": null,
   "metadata": {},
   "outputs": [],
   "source": [
    "# two opposing agents\n",
    "\n",
    "env = MancalaBoard()\n",
    "cost_hist_0 = []\n",
    "cost_hist_1 = []\n",
    "win_hist = []\n",
    "for i in range(iter):\n",
    "    env.reset()\n",
    "    game_over = False\n",
    "    ave_cost_0 = 0.0\n",
    "    ave_cost_1 = 0.0\n",
    "    last_action_0 = 0\n",
    "    last_state_0 = np.zeros(14)\n",
    "    last_action_1 = 0\n",
    "    last_state_1 = np.zeros(14)\n",
    "    last_turn = 0\n",
    "    last_pred_0 = np.zeros(6)\n",
    "    last_pred_1 = np.zeros(6)\n",
    "    while not game_over:\n",
    "        last_turn = env.player\n",
    "        state = env.board if env.player == 0 else np.concatenate((env.board[7:14] , env.board[0:7]))\n",
    "        # choose an action with epsilon greedy\n",
    "        q_net = q_net0 if env.player == 0 else q_net1\n",
    "        rand_e = np.random.rand()\n",
    "        q_pred = q_net.forward(state)\n",
    "        if (rand_e < epsilon):\n",
    "            valid_indices = np.where(state[:6] > 0)[0]\n",
    "            action = np.random.choice(valid_indices)\n",
    "        else:\n",
    "            action = np.argmax(np.where(state[:6] > 0, q_pred, 0))\n",
    "        if (env.player == 0):\n",
    "            last_action_0 = action\n",
    "            last_state_0 = state\n",
    "            last_pred_0 = q_pred\n",
    "        else:\n",
    "            last_action_1 = action\n",
    "            last_state_1 = state\n",
    "            last_pred_1 = q_pred\n",
    "        # get the new state from the action\n",
    "        new_state, reward, game_over = env.move(action if env.player == 0 else action + 7)\n",
    "        new_state = new_state if last_turn == 0 else np.concatenate((new_state[7:14], new_state[0:7]))\n",
    "        q_target_max = reward + discount_factor * np.max(q_net.forward(new_state))\n",
    "        q_target = q_pred.copy()\n",
    "        q_target[action] = q_target_max\n",
    "        cost = np.sum(np.square(q_pred - q_target)) / (2*q_pred.size)\n",
    "        if (last_turn  == 0):\n",
    "            ave_cost_0 += cost\n",
    "        else:\n",
    "            ave_cost_1 += cost\n",
    "        # backpropagate\n",
    "        q_net.backward(q_target, q_pred)\n",
    "        if game_over:\n",
    "            if (env.board[6] > env.board[13]):\n",
    "                reward = 5 if last_turn == 1 else -5\n",
    "            else:\n",
    "                reward = 5 if last_turn == 0 else -5\n",
    "            q_net = q_net0 if last_turn == 1 else q_net1\n",
    "            q_target_max = reward + discount_factor * np.max(q_net.forward(last_state_0 if last_turn == 1 else last_state_1))\n",
    "            q_target = last_pred_0.copy() if last_turn == 1 else last_pred_1.copy()\n",
    "            q_target[last_action_0 if last_turn == 1 else last_action_1] = q_target_max\n",
    "            q_net.backward(q_target, q_pred)\n",
    "            win_hist.append(env.board[6] > env.board[13])\n",
    "    epsilon = max(min_epsilon, epsilon * epsilon_decay_rate)\n",
    "    cost_hist_0.append(ave_cost_0.mean())\n",
    "    cost_hist_1.append(ave_cost_1.mean())\n",
    "\n",
    "    # iteration over\n",
    "    # if (i % 10 == 0):\n",
    "    if (i % 1000 == 0):\n",
    "        print(f'iter: {i}, cost0: {ave_cost_0}')\n",
    "        print(f'iter: {i}, cost1: {ave_cost_1}')\n",
    "\n",
    "# plot winning percentage\n",
    "print(f'q_net0 win ratio {np.round(np.sum(win_hist) / iter, 2)}')\n",
    "\n",
    "\n",
    "# TODO: batch normalization\n",
    "# TODO: try experience replay\n",
    "# TODO: add a regularization term to the cost function\n",
    "# TODO: use an optimizer (and figure out what they are)\n",
    "# TODO: change to softmax activation function\n",
    "# TODO: switch to cross entropy loss function\n",
    "# TODO: add another nn to predict the value of the state w/soft update\n",
    "\n",
    "    \n"
   ]
  },
  {
   "cell_type": "code",
   "execution_count": 77,
   "metadata": {},
   "outputs": [
    {
     "data": {
      "image/png": "[encoded data removed]",
      "text/plain": [
       "<Figure size 432x288 with 1 Axes>"
      ]
     },
     "metadata": {
      "needs_background": "light"
     },
     "output_type": "display_data"
    },
    {
     "data": {
      "image/png": "[encoded data removed]",
      "text/plain": [
       "<Figure size 432x288 with 1 Axes>"
      ]
     },
     "metadata": {
      "needs_background": "light"
     },
     "output_type": "display_data"
    }
   ],
   "source": [
    "plt.plot(cost_hist_0)\n",
    "plt.xlabel('Iteration')\n",
    "plt.ylabel('Cost')\n",
    "plt.title('Cost History 0')\n",
    "plt.show('cost_hist.png')\n",
    "plt.plot(cost_hist_1)\n",
    "plt.xlabel('Iteration')\n",
    "plt.ylabel('Cost')\n",
    "plt.title('Cost History 1')\n",
    "plt.show('cost_hist.png')\n",
    "\n"
   ]
  },
  {
   "cell_type": "code",
   "execution_count": 51,
   "metadata": {},
   "outputs": [],
   "source": [
    "class Simulation():\n",
    "    \"\"\"A class to simulate a game of mancala between two agents.\n",
    "    Modularly designed to allow different learning strategies plug and play.\"\"\"\n",
    "    def __init__(self, agent0: Agent, agent1: Agent):\n",
    "        self.board = MancalaBoard()\n",
    "        self.agent0 = agent0\n",
    "        self.agent1 = agent1\n",
    "\n",
    "    def _choose(self, board: np.ndarray, player : int):\n",
    "        return self.agent0.decide(board) if player == 0 else self.agent1.decide(board)\n",
    "    \n",
    "    def play(self, verbose : bool = False):\n",
    "        env = self.board\n",
    "        env.reset()\n",
    "        game_over = False\n",
    "        while not game_over:\n",
    "            action = self._choose(env.board, env.player)\n",
    "            _, __, game_over = env.move(action)\n",
    "            # if (verbose):\n",
    "                # print(env)\n",
    "        if (verbose):\n",
    "            print(f\"Player {0 if env.board[6] > env.board[13] else 1} won!\")\n",
    "\n",
    "\n",
    "\n",
    "\n"
   ]
  },
  {
   "cell_type": "code",
   "execution_count": null,
   "metadata": {},
   "outputs": [],
   "source": [
    "import time\n",
    "start_time = time.time()\n",
    "while time.time() - start_time < 5 * 60 * 60:\n",
    "    sim = Simulation(Robot(q_net, 0), Robot(q_net, 1))\n",
    "    sim.play()\n"
   ]
  },
  {
   "cell_type": "code",
   "execution_count": null,
   "metadata": {},
   "outputs": [],
   "source": [
    "import numpy as np\n",
    "\n",
    "# Neural net class \n",
    "class DQN:\n",
    "    def __init__(self, state_size, action_size):\n",
    "        self.W1 = np.random.rand(state_size, 128)\n",
    "        self.W2 = np.random.rand(128, action_size)\n",
    "\n",
    "    def forward(self, X):\n",
    "        H = X.dot(self.W1) \n",
    "        Q = H.dot(self.W2)\n",
    "        return Q\n",
    "\n",
    "# Backprop with batches\n",
    "\n",
    "BATCH_SIZE = 32\n",
    "GAMMA = 0.95\n",
    "state_size = 14\n",
    "action_size = 6\n",
    "\n",
    "env = MancalaBoard()\n",
    "dqn = DQN(state_size, action_size)\n",
    "replay_buffer = []\n",
    "\n",
    "for episode in range(100):\n",
    "    # Playing episode...\n",
    "    env.reset()\n",
    "    done = False\n",
    "\n",
    "    while not done: \n",
    "        state = env.board\n",
    "        action = env.move()\n",
    "        next_state = env.board\n",
    "        reward = env.reward()\n",
    "        replay_buffer.append((state, action, reward, next_state))\n",
    "    \n",
    "    states_batch = []\n",
    "    actions_batch = []\n",
    "    rewards_batch = []\n",
    "    \n",
    "    # Gather batch  \n",
    "    for experience in replay_buffer:\n",
    "        states_batch.append(experience[0])\n",
    "        actions_batch.append(experience[1])\n",
    "        rewards_batch.append(experience[2])\n",
    "        \n",
    "    states = np.array(states_batch)[:BATCH_SIZE]\n",
    "    actions = np.array(actions_batch)[:BATCH_SIZE]  \n",
    "    rewards = np.array(rewards_batch)[:BATCH_SIZE]\n",
    "    \n",
    "    # Forward   \n",
    "    Q = dqn.forward(states)\n",
    "    \n",
    "    # Calcuate loss   \n",
    "    Q_a = Q[np.arange(BATCH_SIZE), actions] \n",
    "    next_Q = env.move(# Calculate for next states\n",
    "    expected_Q = rewards + GAMMA * next_Q \n",
    "    \n",
    "    loss = np.sum((Q_a - expected_Q) ** 2)\n",
    "    \n",
    "    # Backward\n",
    "    dQ = Q_a - expected_Q \n",
    "    dW2 = states.T.dot(dQ)  \n",
    "    dH = dQ.dot(dqn.W2.T) * (H > 0) # Relu derivative\n",
    "    dW1 = states.T.dot(dH)  \n",
    "    \n",
    "    # Apply gradients \n",
    "    dqn.W1 -= LR * dW1  \n",
    "    dqn.W2 -= LR * dW2"
   ]
  }
 ],
 "metadata": {
  "kernelspec": {
   "display_name": "Python 3 (ipykernel)",
   "language": "python",
   "name": "python3"
  },
  "language_info": {
   "codemirror_mode": {
    "name": "ipython",
    "version": 3
   },
   "file_extension": ".py",
   "mimetype": "text/x-python",
   "name": "python",
   "nbconvert_exporter": "python",
   "pygments_lexer": "ipython3",
   "version": "3.8.11"
  }
 },
 "nbformat": 4,
 "nbformat_minor": 4
}
